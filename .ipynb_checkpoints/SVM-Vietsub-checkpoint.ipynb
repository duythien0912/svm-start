{
 "cells": [
  {
   "cell_type": "code",
   "execution_count": 25,
   "metadata": {},
   "outputs": [],
   "source": [
    "from sklearn import datasets\n",
    "from sklearn.model_selection import train_test_split\n",
    "from sklearn import svm\n",
    "import matplotlib.pyplot as plt\n",
    "import pandas as pd\n",
    "from matplotlib import style\n",
    "import numpy as np\n",
    "import numpy as np\n",
    "from sklearn import metrics"
   ]
  },
  {
   "cell_type": "code",
   "execution_count": 26,
   "metadata": {},
   "outputs": [],
   "source": [
    "# load datasets có sẵn trong sklearn\n",
    "cancer = datasets.load_breast_cancer()"
   ]
  },
  {
   "cell_type": "code",
   "execution_count": 27,
   "metadata": {},
   "outputs": [
    {
     "name": "stdout",
     "output_type": "stream",
     "text": [
      "Features:  ['mean radius' 'mean texture' 'mean perimeter' 'mean area'\n",
      " 'mean smoothness' 'mean compactness' 'mean concavity'\n",
      " 'mean concave points' 'mean symmetry' 'mean fractal dimension'\n",
      " 'radius error' 'texture error' 'perimeter error' 'area error'\n",
      " 'smoothness error' 'compactness error' 'concavity error'\n",
      " 'concave points error' 'symmetry error' 'fractal dimension error'\n",
      " 'worst radius' 'worst texture' 'worst perimeter' 'worst area'\n",
      " 'worst smoothness' 'worst compactness' 'worst concavity'\n",
      " 'worst concave points' 'worst symmetry' 'worst fractal dimension']\n"
     ]
    }
   ],
   "source": [
    "# Tên các featues\n",
    "print(\"Features: \", cancer.feature_names)"
   ]
  },
  {
   "cell_type": "code",
   "execution_count": 28,
   "metadata": {},
   "outputs": [
    {
     "name": "stdout",
     "output_type": "stream",
     "text": [
      "Labels:  ['malignant' 'benign']\n"
     ]
    }
   ],
   "source": [
    "# Các labels kết quả: Bị ung thư hoặc lành tính\n",
    "print(\"Labels: \", cancer.target_names)"
   ]
  },
  {
   "cell_type": "code",
   "execution_count": 29,
   "metadata": {},
   "outputs": [
    {
     "name": "stdout",
     "output_type": "stream",
     "text": [
      "(569, 30)\n"
     ]
    }
   ],
   "source": [
    "# Xem Shape của data: 569 dòng nhân 30 cột\n",
    "print(cancer.data.shape)"
   ]
  },
  {
   "cell_type": "code",
   "execution_count": 30,
   "metadata": {},
   "outputs": [
    {
     "name": "stdout",
     "output_type": "stream",
     "text": [
      "[0 0 0 0 0 0 0 0 0 0 0 0 0 0 0 0 0 0 0 1 1 1 0 0 0 0 0 0 0 0 0 0 0 0 0 0 0\n",
      " 1 0 0 0 0 0 0 0 0 1 0 1 1 1 1 1 0 0 1 0 0 1 1 1 1 0 1 0 0 1 1 1 1 0 1 0 0\n",
      " 1 0 1 0 0 1 1 1 0 0 1 0 0 0 1 1 1 0 1 1 0 0 1 1 1 0 0 1 1 1 1 0 1 1 0 1 1\n",
      " 1 1 1 1 1 1 0 0 0 1 0 0 1 1 1 0 0 1 0 1 0 0 1 0 0 1 1 0 1 1 0 1 1 1 1 0 1\n",
      " 1 1 1 1 1 1 1 1 0 1 1 1 1 0 0 1 0 1 1 0 0 1 1 0 0 1 1 1 1 0 1 1 0 0 0 1 0\n",
      " 1 0 1 1 1 0 1 1 0 0 1 0 0 0 0 1 0 0 0 1 0 1 0 1 1 0 1 0 0 0 0 1 1 0 0 1 1\n",
      " 1 0 1 1 1 1 1 0 0 1 1 0 1 1 0 0 1 0 1 1 1 1 0 1 1 1 1 1 0 1 0 0 0 0 0 0 0\n",
      " 0 0 0 0 0 0 0 1 1 1 1 1 1 0 1 0 1 1 0 1 1 0 1 0 0 1 1 1 1 1 1 1 1 1 1 1 1\n",
      " 1 0 1 1 0 1 0 1 1 1 1 1 1 1 1 1 1 1 1 1 1 0 1 1 1 0 1 0 1 1 1 1 0 0 0 1 1\n",
      " 1 1 0 1 0 1 0 1 1 1 0 1 1 1 1 1 1 1 0 0 0 1 1 1 1 1 1 1 1 1 1 1 0 0 1 0 0\n",
      " 0 1 0 0 1 1 1 1 1 0 1 1 1 1 1 0 1 1 1 0 1 1 0 0 1 1 1 1 1 1 0 1 1 1 1 1 1\n",
      " 1 0 1 1 1 1 1 0 1 1 0 1 1 1 1 1 1 1 1 1 1 1 1 0 1 0 0 1 0 1 1 1 1 1 0 1 1\n",
      " 0 1 0 1 1 0 1 0 1 1 1 1 1 1 1 1 0 0 1 1 1 1 1 1 0 1 1 1 1 1 1 1 1 1 1 0 1\n",
      " 1 1 1 1 1 1 0 1 0 1 1 0 1 1 1 1 1 0 0 1 0 1 0 1 1 1 1 1 0 1 1 0 1 0 1 0 0\n",
      " 1 1 1 0 1 1 1 1 1 1 1 1 1 1 1 0 1 0 0 1 1 1 1 1 1 1 1 1 1 1 1 1 1 1 1 1 1\n",
      " 1 1 1 1 1 1 1 0 0 0 0 0 0 1]\n"
     ]
    }
   ],
   "source": [
    "# Xem label tương ứng với mỗi dòng là gì 0 là lành tính, 1 là bị bệnh\n",
    "print(cancer.target)"
   ]
  },
  {
   "cell_type": "code",
   "execution_count": 31,
   "metadata": {},
   "outputs": [
    {
     "name": "stdout",
     "output_type": "stream",
     "text": [
      "[[1.799e+01 1.038e+01 1.228e+02 ... 2.654e-01 4.601e-01 1.189e-01]\n",
      " [2.057e+01 1.777e+01 1.329e+02 ... 1.860e-01 2.750e-01 8.902e-02]\n",
      " [1.969e+01 2.125e+01 1.300e+02 ... 2.430e-01 3.613e-01 8.758e-02]\n",
      " ...\n",
      " [1.660e+01 2.808e+01 1.083e+02 ... 1.418e-01 2.218e-01 7.820e-02]\n",
      " [2.060e+01 2.933e+01 1.401e+02 ... 2.650e-01 4.087e-01 1.240e-01]\n",
      " [7.760e+00 2.454e+01 4.792e+01 ... 0.000e+00 2.871e-01 7.039e-02]]\n"
     ]
    }
   ],
   "source": [
    "# Xem data\n",
    "print(cancer.data)"
   ]
  },
  {
   "cell_type": "code",
   "execution_count": 32,
   "metadata": {},
   "outputs": [],
   "source": [
    "# Tạo dữ liệu test và train: 7 train 3 test, và đặt random state để chọn dữ liệu một cách ngẫu nhiên\n",
    "X_train, X_test, y_train, y_test = train_test_split(cancer.data, cancer.target, test_size=0.344,random_state=109) # 70% training and 30% test"
   ]
  },
  {
   "cell_type": "code",
   "execution_count": 33,
   "metadata": {},
   "outputs": [],
   "source": [
    "#Create a svm Classifier\n",
    "clf = svm.SVC(kernel='linear') # Linear Kernel"
   ]
  },
  {
   "cell_type": "code",
   "execution_count": 34,
   "metadata": {},
   "outputs": [
    {
     "data": {
      "text/plain": [
       "SVC(C=1.0, cache_size=200, class_weight=None, coef0=0.0,\n",
       "  decision_function_shape='ovr', degree=3, gamma='auto', kernel='linear',\n",
       "  max_iter=-1, probability=False, random_state=None, shrinking=True,\n",
       "  tol=0.001, verbose=False)"
      ]
     },
     "execution_count": 34,
     "metadata": {},
     "output_type": "execute_result"
    }
   ],
   "source": [
    "#Train the model using the training sets\n",
    "clf.fit(X_train, y_train)"
   ]
  },
  {
   "cell_type": "code",
   "execution_count": 35,
   "metadata": {},
   "outputs": [],
   "source": [
    "#Predict the response for test dataset\n",
    "y_pred = clf.predict(X_test)"
   ]
  },
  {
   "cell_type": "code",
   "execution_count": 36,
   "metadata": {},
   "outputs": [
    {
     "name": "stdout",
     "output_type": "stream",
     "text": [
      "Accuracy: 0.9642857142857143\n"
     ]
    }
   ],
   "source": [
    "# Model Accuracy: how often is the classifier correct?\n",
    "print(\"Accuracy:\",metrics.accuracy_score(y_test, y_pred))\n",
    "w = clf.coef_[0]"
   ]
  },
  {
   "cell_type": "code",
   "execution_count": 37,
   "metadata": {},
   "outputs": [
    {
     "name": "stdout",
     "output_type": "stream",
     "text": [
      "[ 0.65281114  0.29286572 -0.0929531   0.00178553 -0.20242468 -0.18770102\n",
      " -0.49017322 -0.31239509 -0.29266483 -0.01035344 -0.09352975  1.68676803\n",
      "  0.6466631  -0.13282259 -0.03304932  0.0306778  -0.10415817 -0.0578254\n",
      " -0.03118474  0.00783511 -0.06705149 -0.47477373 -0.13896878  0.00405699\n",
      " -0.37640194 -0.52768217 -1.63706315 -0.67704712 -0.78537124 -0.053753  ]\n"
     ]
    }
   ],
   "source": [
    "# In ra trọng số, kiếm những cột có ảnh hưởng nhất để vẽ đồ thị \n",
    "print(w)"
   ]
  },
  {
   "cell_type": "code",
   "execution_count": 38,
   "metadata": {},
   "outputs": [
    {
     "data": {
      "text/plain": [
       "SVC(C=1.0, cache_size=200, class_weight=None, coef0=0.0,\n",
       "  decision_function_shape='ovr', degree=3, gamma='auto', kernel='linear',\n",
       "  max_iter=-1, probability=False, random_state=None, shrinking=True,\n",
       "  tol=0.001, verbose=False)"
      ]
     },
     "execution_count": 38,
     "metadata": {},
     "output_type": "execute_result"
    }
   ],
   "source": [
    "#Tách 2 cột có ảnh hưởng nhất, sau đó train lại \n",
    "#Nhìn một cách đơn giản thì có vẻ trọng số lớn nhất và nhỏ nhất thì sẽ có ảnh hưởng nhất\n",
    "# Thử với 11 & 26 hoặc 3 & 26\n",
    "X_Train = np.array([X_train[:, 11], X_train[:, 26]]).transpose()\n",
    "clf.fit(X_Train, y_train)"
   ]
  },
  {
   "cell_type": "code",
   "execution_count": 39,
   "metadata": {},
   "outputs": [
    {
     "name": "stdout",
     "output_type": "stream",
     "text": [
      "XTrain =  [[2.112e+00 3.809e-01]\n",
      " [1.849e+00 3.446e-01]\n",
      " [1.095e+00 1.731e-01]\n",
      " [1.194e+00 4.636e-01]\n",
      " [1.153e+00 1.350e-01]\n",
      " [6.457e-01 9.385e-02]\n",
      " [1.322e+00 8.112e-02]\n",
      " [1.040e+00 1.904e-01]\n",
      " [8.429e-01 8.105e-02]\n",
      " [1.481e+00 5.340e-01]\n",
      " [2.342e+00 4.833e-02]\n",
      " [1.268e+00 6.922e-01]\n",
      " [1.194e+00 1.252e+00]\n",
      " [7.629e-01 6.780e-01]\n",
      " [1.597e+00 1.062e-01]\n",
      " [3.568e+00 3.639e-01]\n",
      " [7.198e-01 3.866e-02]\n",
      " [1.845e+00 3.744e-01]\n",
      " [9.533e-01 4.069e-01]\n",
      " [1.466e+00 6.133e-01]\n",
      " [9.489e-01 4.704e-01]\n",
      " [4.402e-01 7.727e-01]\n",
      " [2.011e+00 9.412e-02]\n",
      " [1.851e+00 3.194e-01]\n",
      " [8.163e-01 9.915e-02]\n",
      " [1.002e+00 5.390e-01]\n",
      " [7.615e-01 9.823e-02]\n",
      " [1.736e+00 3.092e-01]\n",
      " [1.216e+00 5.179e-01]\n",
      " [1.743e+00 1.412e-01]\n",
      " [8.902e-01 5.355e-01]\n",
      " [8.568e-01 3.378e-01]\n",
      " [3.647e+00 0.000e+00]\n",
      " [4.801e-01 1.206e-01]\n",
      " [1.249e+00 1.935e-01]\n",
      " [2.015e+00 1.055e-01]\n",
      " [1.336e+00 3.114e-01]\n",
      " [1.966e+00 1.335e-02]\n",
      " [1.075e+00 3.403e-01]\n",
      " [1.051e+00 2.861e-01]\n",
      " [1.142e+00 7.977e-03]\n",
      " [1.299e+00 1.604e-01]\n",
      " [6.124e-01 1.364e-01]\n",
      " [9.480e-01 1.804e-01]\n",
      " [9.429e-01 1.444e-01]\n",
      " [1.047e+00 1.377e-01]\n",
      " [1.478e+00 2.388e-01]\n",
      " [1.197e+00 1.916e-01]\n",
      " [1.152e+00 2.639e-01]\n",
      " [8.423e-01 1.856e-01]\n",
      " [1.909e+00 2.500e-01]\n",
      " [8.309e-01 3.076e-01]\n",
      " [1.023e+00 1.783e-01]\n",
      " [1.931e+00 3.912e-01]\n",
      " [1.363e+00 9.350e-02]\n",
      " [1.534e+00 7.987e-02]\n",
      " [4.833e-01 3.517e-02]\n",
      " [1.027e+00 8.402e-01]\n",
      " [7.693e-01 7.127e-02]\n",
      " [1.083e+00 2.533e-02]\n",
      " [1.326e+00 1.377e-01]\n",
      " [1.018e+00 2.512e-01]\n",
      " [8.280e-01 2.210e-01]\n",
      " [6.864e-01 1.379e-02]\n",
      " [1.748e+00 5.186e-02]\n",
      " [1.130e+00 9.996e-02]\n",
      " [6.221e-01 2.060e-01]\n",
      " [7.339e-01 2.302e-01]\n",
      " [5.796e-01 1.168e-01]\n",
      " [1.268e+00 6.735e-02]\n",
      " [1.072e+00 7.356e-01]\n",
      " [1.214e+00 1.845e-03]\n",
      " [8.652e-01 1.471e-01]\n",
      " [6.881e-01 2.079e-01]\n",
      " [1.506e+00 4.029e-01]\n",
      " [1.216e+00 8.434e-02]\n",
      " [1.554e+00 3.218e-01]\n",
      " [7.859e-01 3.791e-01]\n",
      " [1.693e+00 1.956e-01]\n",
      " [1.139e+00 1.230e-01]\n",
      " [2.174e+00 1.755e-01]\n",
      " [1.169e+00 6.943e-01]\n",
      " [1.065e+00 7.750e-02]\n",
      " [9.505e-01 1.020e-01]\n",
      " [1.127e+00 3.155e-01]\n",
      " [9.225e-01 3.759e-01]\n",
      " [1.305e+00 2.535e-01]\n",
      " [5.066e-01 1.346e-01]\n",
      " [1.210e+00 5.523e-02]\n",
      " [8.836e-01 3.469e-02]\n",
      " [9.832e-01 5.539e-01]\n",
      " [1.460e+00 2.403e-01]\n",
      " [1.050e+00 3.122e-02]\n",
      " [1.926e+00 8.803e-02]\n",
      " [9.173e-01 5.026e-01]\n",
      " [1.317e+00 1.211e-01]\n",
      " [6.332e-01 3.582e-01]\n",
      " [1.030e+00 1.256e-01]\n",
      " [8.092e-01 1.201e-01]\n",
      " [1.077e+00 6.399e-01]\n",
      " [3.871e-01 4.004e-01]\n",
      " [1.581e+00 3.272e-01]\n",
      " [1.073e+00 4.784e-01]\n",
      " [9.635e-01 5.820e-01]\n",
      " [1.974e+00 7.529e-02]\n",
      " [8.413e-01 2.846e-01]\n",
      " [1.434e+00 2.912e-01]\n",
      " [1.490e+00 6.783e-01]\n",
      " [1.143e+00 4.158e-02]\n",
      " [2.910e+00 2.432e-01]\n",
      " [8.225e-01 2.299e-01]\n",
      " [9.168e-01 2.702e-01]\n",
      " [1.508e+00 0.000e+00]\n",
      " [4.956e-01 3.630e-01]\n",
      " [2.284e+00 4.734e-01]\n",
      " [6.793e-01 1.754e-01]\n",
      " [1.169e+00 1.246e-01]\n",
      " [4.966e-01 3.402e-01]\n",
      " [1.687e+00 7.190e-02]\n",
      " [1.667e+00 2.803e-01]\n",
      " [6.636e-01 5.755e-01]\n",
      " [1.656e+00 1.688e-01]\n",
      " [1.879e+00 7.993e-02]\n",
      " [9.078e-01 4.921e-02]\n",
      " [5.308e-01 2.866e-01]\n",
      " [7.574e-01 1.564e-01]\n",
      " [9.245e-01 4.819e-01]\n",
      " [1.232e+00 4.462e-02]\n",
      " [1.166e+00 1.060e-01]\n",
      " [6.068e-01 2.654e-01]\n",
      " [1.851e+00 4.234e-01]\n",
      " [8.737e-01 4.185e-01]\n",
      " [1.479e+00 3.393e-01]\n",
      " [1.199e+00 5.673e-01]\n",
      " [8.073e-01 1.167e-01]\n",
      " [1.193e+00 3.879e-01]\n",
      " [9.197e-01 5.409e-01]\n",
      " [2.836e+00 3.829e-01]\n",
      " [1.509e+00 4.098e-01]\n",
      " [7.656e-01 1.860e-01]\n",
      " [7.614e-01 1.854e-02]\n",
      " [1.198e+00 2.866e-01]\n",
      " [1.324e+00 6.872e-01]\n",
      " [1.601e+00 2.298e-01]\n",
      " [1.200e+00 9.441e-02]\n",
      " [1.332e+00 3.438e-01]\n",
      " [2.261e+00 3.486e-01]\n",
      " [1.003e+00 1.423e-01]\n",
      " [1.385e+00 1.611e-01]\n",
      " [9.899e-01 2.758e-02]\n",
      " [1.473e+00 7.698e-02]\n",
      " [1.068e+00 1.960e-01]\n",
      " [1.627e+00 2.675e-01]\n",
      " [7.394e-01 3.103e-01]\n",
      " [5.914e-01 5.030e-01]\n",
      " [2.188e+00 2.398e-02]\n",
      " [7.732e-01 3.784e-01]\n",
      " [1.059e+00 1.226e-01]\n",
      " [1.367e+00 8.653e-02]\n",
      " [1.161e+00 6.121e-01]\n",
      " [1.907e+00 1.366e-01]\n",
      " [1.214e+00 2.249e-01]\n",
      " [5.417e-01 2.569e-01]\n",
      " [5.735e-01 1.120e-02]\n",
      " [1.360e+00 2.439e-01]\n",
      " [1.802e+00 3.458e-01]\n",
      " [1.016e+00 4.858e-01]\n",
      " [6.417e-01 2.690e-01]\n",
      " [1.045e+00 3.533e-01]\n",
      " [1.017e+00 5.372e-01]\n",
      " [9.097e-01 7.732e-03]\n",
      " [1.476e+00 3.201e-01]\n",
      " [7.884e-01 4.504e-01]\n",
      " [1.095e+00 1.889e-01]\n",
      " [4.706e-01 1.947e-01]\n",
      " [8.554e-01 1.932e-01]\n",
      " [1.480e+00 3.861e-01]\n",
      " [2.293e+00 7.153e-02]\n",
      " [1.342e+00 3.207e-01]\n",
      " [1.493e+00 1.125e-01]\n",
      " [1.217e+00 6.572e-02]\n",
      " [5.477e-01 8.615e-02]\n",
      " [1.503e+00 6.231e-02]\n",
      " [1.078e+00 2.322e-01]\n",
      " [1.045e+00 1.514e-01]\n",
      " [9.223e-01 3.162e-01]\n",
      " [1.390e+00 2.365e-01]\n",
      " [4.125e-01 1.362e-01]\n",
      " [1.768e+00 1.797e-01]\n",
      " [9.306e-01 5.106e-01]\n",
      " [1.046e+00 1.048e-01]\n",
      " [1.203e+00 1.164e-01]\n",
      " [1.006e+00 2.437e-01]\n",
      " [9.622e-01 4.589e-01]\n",
      " [1.290e+00 3.169e-01]\n",
      " [7.383e-01 3.889e-01]\n",
      " [9.961e-01 5.518e-03]\n",
      " [1.150e+00 3.587e-01]\n",
      " [7.452e-01 3.794e-01]\n",
      " [8.121e-01 1.632e-01]\n",
      " [1.678e+00 3.582e-02]\n",
      " [2.079e+00 0.000e+00]\n",
      " [1.860e+00 1.295e-01]\n",
      " [4.885e+00 0.000e+00]\n",
      " [6.123e-01 3.728e-01]\n",
      " [6.575e-01 4.159e-01]\n",
      " [1.743e+00 4.932e-01]\n",
      " [9.429e-01 4.341e-01]\n",
      " [1.350e+00 1.390e-01]\n",
      " [1.027e+00 2.884e-02]\n",
      " [7.869e-01 4.504e-01]\n",
      " [7.655e-01 1.521e-01]\n",
      " [1.309e+00 4.024e-01]\n",
      " [9.858e-01 2.247e-01]\n",
      " [6.683e-01 1.220e-01]\n",
      " [4.064e-01 1.047e-01]\n",
      " [1.511e+00 3.219e-01]\n",
      " [1.409e+00 4.043e-02]\n",
      " [8.509e-01 6.451e-01]\n",
      " [1.019e+00 5.186e-01]\n",
      " [1.452e+00 3.355e-01]\n",
      " [1.154e+00 1.490e-01]\n",
      " [1.255e+00 2.267e-01]\n",
      " [7.285e-01 8.636e-02]\n",
      " [1.030e+00 6.956e-01]\n",
      " [6.850e-01 1.876e-01]\n",
      " [9.849e-01 3.965e-01]\n",
      " [6.857e-01 5.274e-01]\n",
      " [1.426e+00 4.504e-01]\n",
      " [1.666e+00 7.242e-01]\n",
      " [1.069e+00 6.282e-01]\n",
      " [5.864e-01 2.456e-01]\n",
      " [1.280e+00 4.955e-03]\n",
      " [1.038e+00 1.804e-01]\n",
      " [1.239e+00 9.755e-02]\n",
      " [1.288e+00 2.544e-01]\n",
      " [7.786e-01 2.413e-01]\n",
      " [7.927e-01 3.009e-01]\n",
      " [6.237e-01 2.492e-01]\n",
      " [1.202e+00 3.965e-01]\n",
      " [8.570e-01 2.560e-01]\n",
      " [1.057e+00 1.359e-01]\n",
      " [1.189e+00 4.146e-01]\n",
      " [2.542e+00 3.986e-02]\n",
      " [9.238e-01 6.376e-01]\n",
      " [6.946e-01 3.732e-02]\n",
      " [1.930e+00 4.646e-01]\n",
      " [1.657e+00 2.873e-01]\n",
      " [2.129e+00 3.920e-01]\n",
      " [5.733e-01 1.848e-01]\n",
      " [1.803e+00 2.216e-01]\n",
      " [1.265e+00 2.992e-01]\n",
      " [9.938e-01 1.399e-01]\n",
      " [1.911e+00 4.609e-01]\n",
      " [1.190e+00 1.620e-01]\n",
      " [1.441e+00 2.168e-02]\n",
      " [8.927e-01 1.089e-01]\n",
      " [1.563e+00 2.806e-01]\n",
      " [6.790e-01 5.018e-01]\n",
      " [1.595e+00 9.387e-01]\n",
      " [8.561e-01 3.241e-01]\n",
      " [1.284e+00 5.862e-01]\n",
      " [2.878e+00 6.141e-02]\n",
      " [1.048e+00 6.810e-01]\n",
      " [9.670e-01 4.384e-02]\n",
      " [1.740e+00 3.186e-01]\n",
      " [2.090e+00 1.005e-02]\n",
      " [9.901e-01 4.433e-01]\n",
      " [2.927e+00 0.000e+00]\n",
      " [2.664e+00 8.216e-01]\n",
      " [1.140e+00 3.308e-01]\n",
      " [7.096e-01 6.305e-01]\n",
      " [1.166e+00 2.596e-01]\n",
      " [9.017e-01 4.695e-01]\n",
      " [1.465e+00 5.165e-01]\n",
      " [1.046e+00 1.117e-01]\n",
      " [4.875e-01 3.476e-01]\n",
      " [1.502e+00 2.434e-01]\n",
      " [1.232e+00 3.597e-01]\n",
      " [2.239e+00 2.000e-01]\n",
      " [5.679e-01 2.477e-01]\n",
      " [1.925e+00 0.000e+00]\n",
      " [8.265e-01 2.085e-01]\n",
      " [2.220e+00 3.349e-01]\n",
      " [9.053e-01 7.119e-01]\n",
      " [1.474e+00 6.476e-01]\n",
      " [1.918e+00 6.194e-02]\n",
      " [6.218e-01 1.091e-01]\n",
      " [2.454e+00 6.181e-01]\n",
      " [9.644e-01 5.203e-01]\n",
      " [6.931e-01 5.233e-02]\n",
      " [1.306e+00 6.833e-01]\n",
      " [9.086e-01 1.764e-01]\n",
      " [1.922e+00 1.925e-01]\n",
      " [1.150e+00 7.934e-02]\n",
      " [1.001e+00 5.308e-01]\n",
      " [1.350e+00 5.579e-03]\n",
      " [1.528e+00 3.381e-01]\n",
      " [8.301e-01 7.161e-02]\n",
      " [1.471e+00 1.898e-01]\n",
      " [1.023e+00 5.344e-01]\n",
      " [1.781e+00 1.377e-01]\n",
      " [9.671e-01 4.580e-02]\n",
      " [8.098e-01 3.209e-01]\n",
      " [1.380e+00 2.177e-01]\n",
      " [1.268e+00 6.920e-03]\n",
      " [1.398e+00 5.588e-01]\n",
      " [1.231e+00 6.030e-01]\n",
      " [1.617e+00 3.442e-01]\n",
      " [6.745e-01 6.243e-02]\n",
      " [1.475e+00 3.157e-01]\n",
      " [9.264e-01 1.673e-01]\n",
      " [1.187e+00 1.459e-01]\n",
      " [5.906e-01 4.290e-01]\n",
      " [1.111e+00 9.189e-02]\n",
      " [5.996e-01 4.116e-02]\n",
      " [6.412e-01 1.450e-01]\n",
      " [3.628e-01 2.962e-01]\n",
      " [1.532e+00 3.619e-02]\n",
      " [3.602e-01 8.324e-02]\n",
      " [1.354e+00 3.779e-01]\n",
      " [1.373e+00 1.381e-01]\n",
      " [9.861e-01 3.120e-01]\n",
      " [2.509e+00 7.162e-02]\n",
      " [1.079e+00 4.040e-01]\n",
      " [1.093e+00 2.099e-01]\n",
      " [1.885e+00 7.681e-01]\n",
      " [8.561e-01 3.948e-01]\n",
      " [1.428e+00 4.023e-01]\n",
      " [8.733e-01 3.301e-01]\n",
      " [1.621e+00 1.927e-01]\n",
      " [4.890e-01 2.114e-01]\n",
      " [7.815e-01 7.116e-02]\n",
      " [6.583e-01 5.830e-01]\n",
      " [1.599e+00 1.105e+00]\n",
      " [1.440e+00 2.560e-01]\n",
      " [1.747e+00 2.085e-02]\n",
      " [1.685e+00 8.460e-02]\n",
      " [3.120e+00 5.803e-01]\n",
      " [7.800e-01 8.489e-01]\n",
      " [3.981e-01 2.151e-01]\n",
      " [1.492e+00 1.326e-01]\n",
      " [7.395e-01 1.087e-01]\n",
      " [2.508e+00 1.046e-01]\n",
      " [7.813e-01 4.000e-01]\n",
      " [1.428e+00 0.000e+00]\n",
      " [4.957e-01 1.791e-01]\n",
      " [9.462e-01 1.742e-01]\n",
      " [2.060e+00 1.882e-01]\n",
      " [1.805e+00 3.938e-02]\n",
      " [1.219e+00 1.992e-01]\n",
      " [4.690e-01 1.186e-01]\n",
      " [1.350e+00 1.277e-01]\n",
      " [1.467e+00 1.564e-01]\n",
      " [1.916e+00 1.453e-01]\n",
      " [1.265e+00 1.901e-01]\n",
      " [1.377e+00 2.678e-01]\n",
      " [2.426e+00 2.923e-01]\n",
      " [1.571e+00 1.145e-01]\n",
      " [8.285e-01 1.824e-02]\n",
      " [6.372e-01 2.310e-01]\n",
      " [2.324e+00 3.064e-01]\n",
      " [1.066e+00 3.911e-01]\n",
      " [1.041e+00 3.158e-01]\n",
      " [1.352e+00 5.807e-01]\n",
      " [1.679e+00 5.036e-01]\n",
      " [6.690e-01 1.565e-01]\n",
      " [2.200e+00 2.237e-02]\n",
      " [1.033e+00 3.788e-01]\n",
      " [1.140e+00 1.449e-01]\n",
      " [1.332e+00 2.802e-01]\n",
      " [2.612e+00 1.181e-01]\n",
      " [1.633e+00 2.298e-01]]\n"
     ]
    }
   ],
   "source": [
    "print(\"XTrain = \", X_Train)\n",
    "w = clf.coef_[0]\n",
    "a = -w[0]/w[1]"
   ]
  },
  {
   "cell_type": "code",
   "execution_count": 40,
   "metadata": {},
   "outputs": [],
   "source": [
    "#Dùng công thức để tính ra đường phân chia\n",
    "xx = np.linspace(min(X_Train[:, 0]), max(X_Train[:, 0]))\n",
    "yy = a * xx - clf.intercept_[0] / w[1]"
   ]
  },
  {
   "cell_type": "code",
   "execution_count": 41,
   "metadata": {},
   "outputs": [
    {
     "data": {
      "image/png": "[encoded data removed]",
      "text/plain": [
       "<Figure size 432x288 with 1 Axes>"
      ]
     },
     "metadata": {
      "needs_background": "light"
     },
     "output_type": "display_data"
    }
   ],
   "source": [
    "#Vẽ đường phân chia\n",
    "h0 = plt.plot(xx, yy, \"k-\", label=\"non weighted\")"
   ]
  },
  {
   "cell_type": "code",
   "execution_count": 42,
   "metadata": {},
   "outputs": [
    {
     "data": {
      "text/plain": [
       "<matplotlib.collections.PathCollection at 0x1a16046d68>"
      ]
     },
     "execution_count": 42,
     "metadata": {},
     "output_type": "execute_result"
    },
    {
     "data": {
      "image/png": "[encoded data removed]",
      "text/plain": [
       "<Figure size 432x288 with 1 Axes>"
      ]
     },
     "metadata": {
      "needs_background": "light"
     },
     "output_type": "display_data"
    }
   ],
   "source": [
    "plt.scatter(X_Train[:, 0],X_Train[:, 1],c=y_train)"
   ]
  },
  {
   "cell_type": "code",
   "execution_count": 43,
   "metadata": {},
   "outputs": [
    {
     "name": "stdout",
     "output_type": "stream",
     "text": [
      "xTrain 3 =  [13.77  18.61  12.86  13.86  13.27  12.7   13.    12.46  11.5   27.22\n",
      " 13.03  14.25   9.029 21.09  13.21  19.17  14.29  14.19  13.98  18.63\n",
      " 14.87  12.89   9.465 14.42  12.19  13.    11.47  20.47  20.59  10.94\n",
      " 12.45  17.3   12.27  13.68  13.71  10.05  14.99  11.22  16.6   21.71\n",
      " 13.01  12.96  13.4   14.96  11.31  13.87  12.56  10.6   17.08  15.04\n",
      " 14.95  12.21  10.26  18.82   9.683 10.49  13.78  11.08  12.87  11.26\n",
      " 12.23  14.2   18.81  13.5   12.77   9.295 14.8   11.61   8.618 11.74\n",
      " 15.78  13.05  11.84  11.06  15.08   9.847 11.87  15.46  11.75  12.25\n",
      " 11.45  13.73  14.97  12.67  21.16  18.31  18.08  13.69  11.76  12.72\n",
      " 14.58  12.4   11.95  11.81  16.24  17.35  12.65  11.06  11.14  17.75\n",
      " 15.73  18.66  16.13  23.21  11.37  15.37  12.05  14.26  10.51  19.1\n",
      " 11.06  20.44   6.981 15.28  19.68   8.571 12.88  15.     9.755 17.42\n",
      " 19.02  12.34   9.333 12.34  13.28  13.74  23.51  13.    13.59  13.46\n",
      " 14.27  19.89   7.691 19.79  12.2   19.21  16.74  19.55  20.26  11.6\n",
      " 10.9   15.05  15.75  13.2    8.878 13.51   9.904 12.75  14.74  12.81\n",
      " 13.16  15.1   14.6   14.44  13.48  14.99  18.25  11.46  12.77  19.53\n",
      " 11.75  17.95  13.66  13.2   12.88  19.4   13.34  11.74  18.49  19.81\n",
      " 12.03  28.11  13.14  12.54  16.3   17.01  20.58  11.89  19.    10.65\n",
      " 10.18  10.26  14.03  15.85  11.93  13.11  11.94  15.19  11.54  13.4\n",
      " 17.85  11.89  14.64  14.86  13.61  17.19  11.25  14.71  23.09  14.34\n",
      " 11.16   8.734 10.51   9.72  13.17  20.64  20.09   9.606 13.21  10.91\n",
      " 19.69  11.71  21.37  11.27  14.86  10.8   14.69   9.742 25.73  14.25\n",
      " 14.95  11.68  12.    12.06  11.84  13.17  15.78  16.13  11.8   19.07\n",
      " 12.83   8.726 11.33  11.52  10.75  18.01  12.21  13.15  14.58  18.45\n",
      " 14.5   13.75  20.51  10.57  13.11  13.77  13.81  11.64  17.06  13.47\n",
      " 12.63  16.16  11.43   9.042 12.16  10.17  11.32  11.89  17.05  20.6\n",
      " 17.46  16.46   9.405 19.59  10.32  11.62  10.16  20.55   9.423  9.731\n",
      " 13.37  15.34  11.49  16.65  17.6   14.04  12.83  12.36  16.27  10.29\n",
      " 16.69  10.66  13.44  14.48  17.99  25.22  10.82  13.88  15.66  15.06\n",
      " 12.72  27.42  12.91  10.2   13.46  20.18  12.58  13.82   9.567 10.25\n",
      " 20.34  12.27  11.13  13.96  12.77  10.08  17.02  10.57  20.73  12.42\n",
      " 18.46  13.9   16.02  18.03  14.62  12.18  12.99  15.27  12.3   11.54\n",
      " 14.53  13.45  11.34  10.26  14.47   9.268 20.18  23.27  10.95  17.99\n",
      " 10.8   16.17  11.15  15.46  12.46  11.57   9.742 14.06  24.25  19.73\n",
      " 14.76  14.05  11.71  11.71  20.29   7.76  12.34  13.7   16.84  11.08\n",
      " 12.87  12.89   9.667 11.13  13.59  12.8   13.71  11.63  12.18  13.05\n",
      " 16.14  14.22  12.62  20.48  21.75  17.27  14.26  12.43  20.31  11.8\n",
      " 16.11  10.48  17.29 ]\n"
     ]
    }
   ],
   "source": [
    "print(\"xTrain 3 = \", X_train[:, 0])"
   ]
  },
  {
   "cell_type": "code",
   "execution_count": 44,
   "metadata": {},
   "outputs": [
    {
     "data": {
      "text/plain": [
       "Text(0,0.5,'worst concavity')"
      ]
     },
     "execution_count": 44,
     "metadata": {},
     "output_type": "execute_result"
    },
    {
     "data": {
      "image/png": "[encoded data removed]",
      "text/plain": [
       "<Figure size 432x288 with 1 Axes>"
      ]
     },
     "metadata": {
      "needs_background": "light"
     },
     "output_type": "display_data"
    }
   ],
   "source": [
    "plt.ylabel(\"worst concavity\")"
   ]
  },
  {
   "cell_type": "code",
   "execution_count": 45,
   "metadata": {},
   "outputs": [
    {
     "data": {
      "text/plain": [
       "Text(0.5,0,'mean concavity')"
      ]
     },
     "execution_count": 45,
     "metadata": {},
     "output_type": "execute_result"
    },
    {
     "data": {
      "image/png": "[encoded data removed]",
      "text/plain": [
       "<Figure size 432x288 with 1 Axes>"
      ]
     },
     "metadata": {
      "needs_background": "light"
     },
     "output_type": "display_data"
    }
   ],
   "source": [
    "plt.xlabel(\"mean concavity\")"
   ]
  },
  {
   "cell_type": "code",
   "execution_count": 47,
   "metadata": {},
   "outputs": [
    {
     "name": "stderr",
     "output_type": "stream",
     "text": [
      "No handles with labels found to put in legend.\n"
     ]
    },
    {
     "data": {
      "text/plain": [
       "<matplotlib.legend.Legend at 0x1a1630e860>"
      ]
     },
     "execution_count": 47,
     "metadata": {},
     "output_type": "execute_result"
    },
    {
     "data": {
      "image/png": "[encoded data removed]",
      "text/plain": [
       "<Figure size 432x288 with 1 Axes>"
      ]
     },
     "metadata": {
      "needs_background": "light"
     },
     "output_type": "display_data"
    }
   ],
   "source": [
    "plt.legend()"
   ]
  },
  {
   "cell_type": "code",
   "execution_count": 48,
   "metadata": {},
   "outputs": [],
   "source": [
    "plt.show()"
   ]
  },
  {
   "cell_type": "code",
   "execution_count": null,
   "metadata": {},
   "outputs": [],
   "source": []
  }
 ],
 "metadata": {
  "kernelspec": {
   "display_name": "Python 3",
   "language": "python",
   "name": "python3"
  },
  "language_info": {
   "codemirror_mode": {
    "name": "ipython",
    "version": 3
   },
   "file_extension": ".py",
   "mimetype": "text/x-python",
   "name": "python",
   "nbconvert_exporter": "python",
   "pygments_lexer": "ipython3",
   "version": "3.7.0"
  }
 },
 "nbformat": 4,
 "nbformat_minor": 2
}
